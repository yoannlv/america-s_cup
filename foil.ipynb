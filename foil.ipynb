{
 "cells": [
  {
   "cell_type": "code",
   "execution_count": 1,
   "id": "productive-incidence",
   "metadata": {},
   "outputs": [],
   "source": [
    "import sqlite3\n",
    "import pandas as pd\n",
    "import json\n",
    "import requests\n",
    "import os\n",
    "import time\n",
    "from pathlib import Path\n",
    "from jinja2 import Environment, FileSystemLoader"
   ]
  },
  {
   "cell_type": "markdown",
   "id": "excessive-bench",
   "metadata": {},
   "source": [
    "## Création BDD et tables"
   ]
  },
  {
   "cell_type": "code",
   "execution_count": 2,
   "id": "mathematical-commander",
   "metadata": {},
   "outputs": [
    {
     "name": "stdout",
     "output_type": "stream",
     "text": [
      "Une erreur est survenue lors de la creation de la base\n",
      "La base de données a été créée\n"
     ]
    }
   ],
   "source": [
    "try:\n",
    "    db = sqlite3.connect(\"foil.db\")\n",
    "    \n",
    "    cursor = db.cursor()\n",
    "    \n",
    "    cursor.execute('''create table stations (       \n",
    "    \n",
    "    id_station integer primary key,\n",
    "    name varchar,\n",
    "    latitude float,\n",
    "    longitude float)''')\n",
    "    \n",
    "    cursor.execute('''create table mesures (       \n",
    "    \n",
    "    id_mesure integer primary key autoincrement unique,\n",
    "    date varchar,\n",
    "    id_station integer,\n",
    "    pressure float,\n",
    "    wind_heading float,\n",
    "    wind_speed_avg float,\n",
    "    wind_speed_max float,\n",
    "    wind_speed_min float,\n",
    "    status_state varchar,\n",
    "    foreign key (id_station) references stations(id_station))''')\n",
    "                                                     \n",
    "    db.commit()\n",
    "    \n",
    "    cursor.close()\n",
    "    db.close()\n",
    "except:\n",
    "    print(\"Une erreur est survenue lors de la creation de la base\")\n",
    "    exit(1)\n",
    "    \n",
    "print(\"La base de données a été créée\")  "
   ]
  },
  {
   "cell_type": "markdown",
   "id": "american-operation",
   "metadata": {},
   "source": [
    "## Création liste Stations et Mesures"
   ]
  },
  {
   "cell_type": "code",
   "execution_count": 3,
   "id": "artistic-things",
   "metadata": {},
   "outputs": [],
   "source": [
    "liste_stations = [113, 307, 308]"
   ]
  },
  {
   "cell_type": "code",
   "execution_count": 4,
   "id": "headed-tongue",
   "metadata": {},
   "outputs": [],
   "source": [
    "data_stations=[]\n",
    "for i in liste_stations:\n",
    "    q=str(i)\n",
    "    response = requests.get('http://api.pioupiou.fr/v1/live/'+q)\n",
    "    response_info = json.loads(response.text)\n",
    "    data_stations.append([response_info['data']['id'], response_info['data']['meta']['name'], response_info['data']['location']['latitude'], response_info['data']['location']['longitude']])"
   ]
  },
  {
   "cell_type": "code",
   "execution_count": 5,
   "id": "paperback-exercise",
   "metadata": {},
   "outputs": [
    {
     "data": {
      "text/plain": [
       "[[113, 'Brétignolles sur mer - La Normandelière', 46.613702, -1.861307],\n",
       " [307, 'Pioupiou 307', 46.450683, -1.581863],\n",
       " [308, 'Pioupiou 308', 46.692604, -1.765012]]"
      ]
     },
     "execution_count": 5,
     "metadata": {},
     "output_type": "execute_result"
    }
   ],
   "source": [
    "data_stations"
   ]
  },
  {
   "cell_type": "code",
   "execution_count": 6,
   "id": "innovative-lithuania",
   "metadata": {},
   "outputs": [],
   "source": [
    "data_mesures=[]\n",
    "for i in liste_stations:\n",
    "    q=str(i)\n",
    "    response = requests.get('http://api.pioupiou.fr/v1/live/'+q)\n",
    "    response_info = json.loads(response.text)\n",
    "    data_mesures.append([response_info['data']['measurements']['date'], response_info['data']['id'], response_info['data']['measurements']['pressure'], response_info['data']['measurements']['wind_heading'], response_info['data']['measurements']['wind_speed_avg'], response_info['data']['measurements']['wind_speed_max'], response_info['data']['measurements']['wind_speed_min'], response_info['data']['status']['state']])"
   ]
  },
  {
   "cell_type": "code",
   "execution_count": 7,
   "id": "unlike-feelings",
   "metadata": {},
   "outputs": [
    {
     "data": {
      "text/plain": [
       "[['2021-03-12T15:00:34.000Z', 113, None, 247.5, 34.5, None, None, 'on'],\n",
       " ['2021-03-12T14:55:10.000Z', 307, None, 270, 25, 45, 11.5, 'on'],\n",
       " ['2021-03-12T14:49:02.000Z', 308, None, 22.5, 0, 0, 0, 'on']]"
      ]
     },
     "execution_count": 7,
     "metadata": {},
     "output_type": "execute_result"
    }
   ],
   "source": [
    "data_mesures"
   ]
  },
  {
   "cell_type": "markdown",
   "id": "individual-weapon",
   "metadata": {},
   "source": [
    "## Connexion BDD"
   ]
  },
  {
   "cell_type": "code",
   "execution_count": 8,
   "id": "overhead-absolute",
   "metadata": {},
   "outputs": [],
   "source": [
    "conn = sqlite3.connect('foil.db')"
   ]
  },
  {
   "cell_type": "markdown",
   "id": "imposed-particle",
   "metadata": {},
   "source": [
    "## Insertion données"
   ]
  },
  {
   "cell_type": "code",
   "execution_count": 9,
   "id": "hidden-danish",
   "metadata": {},
   "outputs": [],
   "source": [
    "def inserer_donnees(conn, sql_insertion_table, donnees):\n",
    "    try:\n",
    "        cursor = conn.cursor()\n",
    "        for d in donnees:\n",
    "            cursor.execute(sql_insertion_table, d)\n",
    "        conn.commit()\n",
    "    except sqlite3.Error as e:\n",
    "        print(\"Erreur lors de l'insertion des données\")\n",
    "        print(e)\n",
    "        return\n",
    "    cursor.close()\n",
    "    print(\"Les données ont été insérées avec succès\")"
   ]
  },
  {
   "cell_type": "code",
   "execution_count": 10,
   "id": "restricted-trash",
   "metadata": {},
   "outputs": [],
   "source": [
    "sql_inserer_station = \"\"\"\n",
    "    INSERT INTO stations\n",
    "    (id_station, name, latitude, longitude)\n",
    "    VALUES (?, ?, ?, ?)\n",
    "\"\"\""
   ]
  },
  {
   "cell_type": "code",
   "execution_count": 11,
   "id": "domestic-instruction",
   "metadata": {},
   "outputs": [
    {
     "name": "stdout",
     "output_type": "stream",
     "text": [
      "Erreur lors de l'insertion des données\n",
      "UNIQUE constraint failed: stations.id_station\n"
     ]
    }
   ],
   "source": [
    "inserer_donnees(conn, sql_inserer_station, data_stations)"
   ]
  },
  {
   "cell_type": "code",
   "execution_count": 12,
   "id": "national-array",
   "metadata": {},
   "outputs": [],
   "source": [
    "sql_inserer_mesure = \"\"\"\n",
    "    INSERT INTO mesures\n",
    "    (date, id_station, pressure, wind_heading, wind_speed_avg, wind_speed_max, wind_speed_min, status_state)\n",
    "    VALUES (?, ?, ?, ?, ?, ?, ?, ?)\n",
    "\"\"\""
   ]
  },
  {
   "cell_type": "code",
   "execution_count": 13,
   "id": "becoming-reproduction",
   "metadata": {},
   "outputs": [
    {
     "name": "stdout",
     "output_type": "stream",
     "text": [
      "Les données ont été insérées avec succès\n"
     ]
    }
   ],
   "source": [
    "while True:\n",
    "    inserer_donnees(conn, sql_inserer_mesure, data_mesures)\n",
    "    time.sleep(60)"
   ]
  },
  {
   "cell_type": "code",
   "execution_count": 14,
   "id": "martial-toilet",
   "metadata": {},
   "outputs": [
    {
     "data": {
      "text/html": [
       "<div>\n",
       "<style scoped>\n",
       "    .dataframe tbody tr th:only-of-type {\n",
       "        vertical-align: middle;\n",
       "    }\n",
       "\n",
       "    .dataframe tbody tr th {\n",
       "        vertical-align: top;\n",
       "    }\n",
       "\n",
       "    .dataframe thead th {\n",
       "        text-align: right;\n",
       "    }\n",
       "</style>\n",
       "<table border=\"1\" class=\"dataframe\">\n",
       "  <thead>\n",
       "    <tr style=\"text-align: right;\">\n",
       "      <th></th>\n",
       "      <th>id_mesure</th>\n",
       "      <th>date</th>\n",
       "      <th>id_station</th>\n",
       "      <th>pressure</th>\n",
       "      <th>wind_heading</th>\n",
       "      <th>wind_speed_avg</th>\n",
       "      <th>wind_speed_max</th>\n",
       "      <th>wind_speed_min</th>\n",
       "      <th>status_state</th>\n",
       "    </tr>\n",
       "  </thead>\n",
       "  <tbody>\n",
       "    <tr>\n",
       "      <th>0</th>\n",
       "      <td>439</td>\n",
       "      <td>2021-03-12T15:00:34.000Z</td>\n",
       "      <td>113</td>\n",
       "      <td>None</td>\n",
       "      <td>247.5</td>\n",
       "      <td>34.5</td>\n",
       "      <td>None</td>\n",
       "      <td>None</td>\n",
       "      <td>on</td>\n",
       "    </tr>\n",
       "    <tr>\n",
       "      <th>1</th>\n",
       "      <td>394</td>\n",
       "      <td>2021-03-12T13:50:00.000Z</td>\n",
       "      <td>113</td>\n",
       "      <td>None</td>\n",
       "      <td>247.5</td>\n",
       "      <td>30.5</td>\n",
       "      <td>None</td>\n",
       "      <td>None</td>\n",
       "      <td>on</td>\n",
       "    </tr>\n",
       "    <tr>\n",
       "      <th>2</th>\n",
       "      <td>397</td>\n",
       "      <td>2021-03-12T13:50:00.000Z</td>\n",
       "      <td>113</td>\n",
       "      <td>None</td>\n",
       "      <td>247.5</td>\n",
       "      <td>30.5</td>\n",
       "      <td>None</td>\n",
       "      <td>None</td>\n",
       "      <td>on</td>\n",
       "    </tr>\n",
       "    <tr>\n",
       "      <th>3</th>\n",
       "      <td>400</td>\n",
       "      <td>2021-03-12T13:50:00.000Z</td>\n",
       "      <td>113</td>\n",
       "      <td>None</td>\n",
       "      <td>247.5</td>\n",
       "      <td>30.5</td>\n",
       "      <td>None</td>\n",
       "      <td>None</td>\n",
       "      <td>on</td>\n",
       "    </tr>\n",
       "    <tr>\n",
       "      <th>4</th>\n",
       "      <td>403</td>\n",
       "      <td>2021-03-12T13:50:00.000Z</td>\n",
       "      <td>113</td>\n",
       "      <td>None</td>\n",
       "      <td>247.5</td>\n",
       "      <td>30.5</td>\n",
       "      <td>None</td>\n",
       "      <td>None</td>\n",
       "      <td>on</td>\n",
       "    </tr>\n",
       "    <tr>\n",
       "      <th>5</th>\n",
       "      <td>406</td>\n",
       "      <td>2021-03-12T13:50:00.000Z</td>\n",
       "      <td>113</td>\n",
       "      <td>None</td>\n",
       "      <td>247.5</td>\n",
       "      <td>30.5</td>\n",
       "      <td>None</td>\n",
       "      <td>None</td>\n",
       "      <td>on</td>\n",
       "    </tr>\n",
       "    <tr>\n",
       "      <th>6</th>\n",
       "      <td>409</td>\n",
       "      <td>2021-03-12T13:50:00.000Z</td>\n",
       "      <td>113</td>\n",
       "      <td>None</td>\n",
       "      <td>247.5</td>\n",
       "      <td>30.5</td>\n",
       "      <td>None</td>\n",
       "      <td>None</td>\n",
       "      <td>on</td>\n",
       "    </tr>\n",
       "    <tr>\n",
       "      <th>7</th>\n",
       "      <td>412</td>\n",
       "      <td>2021-03-12T13:50:00.000Z</td>\n",
       "      <td>113</td>\n",
       "      <td>None</td>\n",
       "      <td>247.5</td>\n",
       "      <td>30.5</td>\n",
       "      <td>None</td>\n",
       "      <td>None</td>\n",
       "      <td>on</td>\n",
       "    </tr>\n",
       "    <tr>\n",
       "      <th>8</th>\n",
       "      <td>415</td>\n",
       "      <td>2021-03-12T13:50:00.000Z</td>\n",
       "      <td>113</td>\n",
       "      <td>None</td>\n",
       "      <td>247.5</td>\n",
       "      <td>30.5</td>\n",
       "      <td>None</td>\n",
       "      <td>None</td>\n",
       "      <td>on</td>\n",
       "    </tr>\n",
       "    <tr>\n",
       "      <th>9</th>\n",
       "      <td>418</td>\n",
       "      <td>2021-03-12T13:50:00.000Z</td>\n",
       "      <td>113</td>\n",
       "      <td>None</td>\n",
       "      <td>247.5</td>\n",
       "      <td>30.5</td>\n",
       "      <td>None</td>\n",
       "      <td>None</td>\n",
       "      <td>on</td>\n",
       "    </tr>\n",
       "  </tbody>\n",
       "</table>\n",
       "</div>"
      ],
      "text/plain": [
       "   id_mesure                      date  id_station pressure  wind_heading  \\\n",
       "0        439  2021-03-12T15:00:34.000Z         113     None         247.5   \n",
       "1        394  2021-03-12T13:50:00.000Z         113     None         247.5   \n",
       "2        397  2021-03-12T13:50:00.000Z         113     None         247.5   \n",
       "3        400  2021-03-12T13:50:00.000Z         113     None         247.5   \n",
       "4        403  2021-03-12T13:50:00.000Z         113     None         247.5   \n",
       "5        406  2021-03-12T13:50:00.000Z         113     None         247.5   \n",
       "6        409  2021-03-12T13:50:00.000Z         113     None         247.5   \n",
       "7        412  2021-03-12T13:50:00.000Z         113     None         247.5   \n",
       "8        415  2021-03-12T13:50:00.000Z         113     None         247.5   \n",
       "9        418  2021-03-12T13:50:00.000Z         113     None         247.5   \n",
       "\n",
       "   wind_speed_avg wind_speed_max wind_speed_min status_state  \n",
       "0            34.5           None           None           on  \n",
       "1            30.5           None           None           on  \n",
       "2            30.5           None           None           on  \n",
       "3            30.5           None           None           on  \n",
       "4            30.5           None           None           on  \n",
       "5            30.5           None           None           on  \n",
       "6            30.5           None           None           on  \n",
       "7            30.5           None           None           on  \n",
       "8            30.5           None           None           on  \n",
       "9            30.5           None           None           on  "
      ]
     },
     "execution_count": 14,
     "metadata": {},
     "output_type": "execute_result"
    }
   ],
   "source": [
    "last_mesures_113 = '''\n",
    "SELECT *\n",
    "FROM mesures\n",
    "WHERE id_station=113\n",
    "ORDER BY date DESC\n",
    "LIMIT 10\n",
    "'''\n",
    "\n",
    "last_mesures_113 = pd.read_sql_query(last_mesures_113, conn)\n",
    "last_mesures_113"
   ]
  },
  {
   "cell_type": "code",
   "execution_count": 15,
   "id": "preceding-insight",
   "metadata": {},
   "outputs": [
    {
     "data": {
      "text/plain": [
       "[[439, '2021-03-12T15:00:34.000Z', 113, None, 247.5, 34.5, None, None, 'on'],\n",
       " [394, '2021-03-12T13:50:00.000Z', 113, None, 247.5, 30.5, None, None, 'on'],\n",
       " [397, '2021-03-12T13:50:00.000Z', 113, None, 247.5, 30.5, None, None, 'on'],\n",
       " [400, '2021-03-12T13:50:00.000Z', 113, None, 247.5, 30.5, None, None, 'on'],\n",
       " [403, '2021-03-12T13:50:00.000Z', 113, None, 247.5, 30.5, None, None, 'on'],\n",
       " [406, '2021-03-12T13:50:00.000Z', 113, None, 247.5, 30.5, None, None, 'on'],\n",
       " [409, '2021-03-12T13:50:00.000Z', 113, None, 247.5, 30.5, None, None, 'on'],\n",
       " [412, '2021-03-12T13:50:00.000Z', 113, None, 247.5, 30.5, None, None, 'on'],\n",
       " [415, '2021-03-12T13:50:00.000Z', 113, None, 247.5, 30.5, None, None, 'on'],\n",
       " [418, '2021-03-12T13:50:00.000Z', 113, None, 247.5, 30.5, None, None, 'on']]"
      ]
     },
     "execution_count": 15,
     "metadata": {},
     "output_type": "execute_result"
    }
   ],
   "source": [
    "list_last_mesures_113 = last_mesures_113.values.tolist()\n",
    "list_last_mesures_113"
   ]
  },
  {
   "cell_type": "code",
   "execution_count": 16,
   "id": "boring-absence",
   "metadata": {},
   "outputs": [],
   "source": [
    "last_mesures_307 = '''\n",
    "SELECT *\n",
    "FROM mesures\n",
    "WHERE id_station=307\n",
    "ORDER BY date DESC\n",
    "LIMIT 10\n",
    "'''\n",
    "\n",
    "last_mesures_307 = pd.read_sql_query(last_mesures_307, conn)"
   ]
  },
  {
   "cell_type": "code",
   "execution_count": 17,
   "id": "controlling-exhaust",
   "metadata": {},
   "outputs": [],
   "source": [
    "list_last_mesures_307 = last_mesures_307.values.tolist()"
   ]
  },
  {
   "cell_type": "code",
   "execution_count": 18,
   "id": "driven-bishop",
   "metadata": {},
   "outputs": [],
   "source": [
    "last_mesures_308 = '''\n",
    "SELECT *\n",
    "FROM mesures\n",
    "WHERE id_station=308\n",
    "ORDER BY date DESC\n",
    "LIMIT 10\n",
    "'''\n",
    "\n",
    "last_mesures_308 = pd.read_sql_query(last_mesures_308, conn)"
   ]
  },
  {
   "cell_type": "code",
   "execution_count": 19,
   "id": "limited-logan",
   "metadata": {},
   "outputs": [],
   "source": [
    "list_last_mesures_308 = last_mesures_308.values.tolist()"
   ]
  },
  {
   "cell_type": "code",
   "execution_count": 20,
   "id": "running-venue",
   "metadata": {},
   "outputs": [],
   "source": [
    "file_loader = FileSystemLoader('templates')\n",
    "env = Environment(loader=file_loader, autoescape=True)\n",
    "\n",
    "template = env.get_template('index.html')\n",
    "\n",
    "filename = \"html/index.html\"\n",
    "with open(filename, 'w') as dashboard:\n",
    "    dashboard.write(template.render(data_mesures_113=list_last_mesures_113, data_mesures_307=list_last_mesures_307, data_mesures_308=list_last_mesures_308))"
   ]
  },
  {
   "cell_type": "code",
   "execution_count": null,
   "id": "ecological-winner",
   "metadata": {},
   "outputs": [],
   "source": []
  }
 ],
 "metadata": {
  "kernelspec": {
   "display_name": "Python 3",
   "language": "python",
   "name": "python3"
  },
  "language_info": {
   "codemirror_mode": {
    "name": "ipython",
    "version": 3
   },
   "file_extension": ".py",
   "mimetype": "text/x-python",
   "name": "python",
   "nbconvert_exporter": "python",
   "pygments_lexer": "ipython3",
   "version": "3.8.6"
  }
 },
 "nbformat": 4,
 "nbformat_minor": 5
}
