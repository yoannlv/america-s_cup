{
 "cells": [
  {
   "cell_type": "code",
   "execution_count": 28,
   "id": "removable-villa",
   "metadata": {},
   "outputs": [],
   "source": [
    "import sqlite3\n",
    "import pandas as pd\n",
    "import json\n",
    "import requests\n",
    "import os\n",
    "import time"
   ]
  },
  {
   "cell_type": "markdown",
   "id": "needed-trailer",
   "metadata": {},
   "source": [
    "## Création BDD et tables"
   ]
  },
  {
   "cell_type": "code",
   "execution_count": 13,
   "id": "forbidden-budget",
   "metadata": {},
   "outputs": [
    {
     "name": "stdout",
     "output_type": "stream",
     "text": [
      "La base de données a été créée\n"
     ]
    }
   ],
   "source": [
    "try:\n",
    "    db = sqlite3.connect(\"foil.db\")\n",
    "    \n",
    "    cursor = db.cursor()\n",
    "    \n",
    "    cursor.execute('''create table stations (       \n",
    "    \n",
    "    id_station integer primary key,\n",
    "    name varchar,\n",
    "    latitude float,\n",
    "    longitude float)''')\n",
    "    \n",
    "    cursor.execute('''create table mesures (       \n",
    "    \n",
    "    id_mesure integer primary key autoincrement unique,\n",
    "    date varchar,\n",
    "    id_station integer,\n",
    "    pressure float,\n",
    "    wind_heading float,\n",
    "    wind_speed_avg float,\n",
    "    wind_speed_max float,\n",
    "    wind_speed_min float,\n",
    "    status_state varchar,\n",
    "    foreign key (id_station) references stations(id_station))''')\n",
    "                                                     \n",
    "    db.commit()\n",
    "    \n",
    "    cursor.close()\n",
    "    db.close()\n",
    "except:\n",
    "    print(\"Une erreur est survenue lors de la creation de la base\")\n",
    "    exit(1)\n",
    "    \n",
    "print(\"La base de données a été créée\")  "
   ]
  },
  {
   "cell_type": "markdown",
   "id": "military-telephone",
   "metadata": {},
   "source": [
    "## Création liste Stations et Mesures"
   ]
  },
  {
   "cell_type": "code",
   "execution_count": 2,
   "id": "facial-flush",
   "metadata": {},
   "outputs": [],
   "source": [
    "liste_stations = [113, 307, 308]"
   ]
  },
  {
   "cell_type": "code",
   "execution_count": 3,
   "id": "prime-pilot",
   "metadata": {},
   "outputs": [],
   "source": [
    "data_stations=[]\n",
    "for i in liste_stations:\n",
    "    q=str(i)\n",
    "    response = requests.get('http://api.pioupiou.fr/v1/live/'+q)\n",
    "    response_info = json.loads(response.text)\n",
    "    data_stations.append([response_info['data']['id'], response_info['data']['meta']['name'], response_info['data']['location']['latitude'], response_info['data']['location']['longitude']])"
   ]
  },
  {
   "cell_type": "code",
   "execution_count": 4,
   "id": "voluntary-appointment",
   "metadata": {},
   "outputs": [
    {
     "data": {
      "text/plain": [
       "[[113, 'Brétignolles sur mer - La Normandelière', 46.613681, -1.861328],\n",
       " [307, 'Pioupiou 307', 46.450667, -1.581897],\n",
       " [308, 'Pioupiou 308', 46.692604, -1.765012]]"
      ]
     },
     "execution_count": 4,
     "metadata": {},
     "output_type": "execute_result"
    }
   ],
   "source": [
    "data_stations"
   ]
  },
  {
   "cell_type": "code",
   "execution_count": 17,
   "id": "danish-craps",
   "metadata": {},
   "outputs": [],
   "source": [
    "data_mesures=[]\n",
    "for i in liste_stations:\n",
    "    q=str(i)\n",
    "    response = requests.get('http://api.pioupiou.fr/v1/live/'+q)\n",
    "    response_info = json.loads(response.text)\n",
    "    data_mesures.append([response_info['data']['measurements']['date'], response_info['data']['id'], response_info['data']['measurements']['pressure'], response_info['data']['measurements']['wind_heading'], response_info['data']['measurements']['wind_speed_avg'], response_info['data']['measurements']['wind_speed_max'], response_info['data']['measurements']['wind_speed_min'], response_info['data']['status']['state']])"
   ]
  },
  {
   "cell_type": "code",
   "execution_count": 18,
   "id": "personalized-sunday",
   "metadata": {},
   "outputs": [
    {
     "data": {
      "text/plain": [
       "[['2021-03-11T22:14:30.000Z', 113, None, 270, 29.5, None, None, 'on'],\n",
       " ['2021-03-11T22:12:43.000Z', 307, None, 270, 13, 20.5, 7, 'on'],\n",
       " ['2021-03-11T22:07:25.000Z', 308, None, 22.5, 0, 0, 0, 'on']]"
      ]
     },
     "execution_count": 18,
     "metadata": {},
     "output_type": "execute_result"
    }
   ],
   "source": [
    "data_mesures"
   ]
  },
  {
   "cell_type": "markdown",
   "id": "silver-meaning",
   "metadata": {},
   "source": [
    "## Connexion BDD"
   ]
  },
  {
   "cell_type": "code",
   "execution_count": 7,
   "id": "inside-newspaper",
   "metadata": {},
   "outputs": [],
   "source": [
    "conn = sqlite3.connect('foil.db')"
   ]
  },
  {
   "cell_type": "markdown",
   "id": "fatal-perspective",
   "metadata": {},
   "source": [
    "## Insertion données"
   ]
  },
  {
   "cell_type": "code",
   "execution_count": 19,
   "id": "saved-swaziland",
   "metadata": {},
   "outputs": [],
   "source": [
    "def inserer_donnees(conn, sql_insertion_table, donnees):\n",
    "    try:\n",
    "        cursor = conn.cursor()\n",
    "        for d in donnees:\n",
    "            cursor.execute(sql_insertion_table, d)\n",
    "        conn.commit()\n",
    "    except sqlite3.Error as e:\n",
    "        print(\"Erreur lors de l'insertion des données\")\n",
    "        print(e)\n",
    "        return\n",
    "    cursor.close()\n",
    "    print(\"Les données ont été insérées avec succès\")"
   ]
  },
  {
   "cell_type": "code",
   "execution_count": 9,
   "id": "blond-burden",
   "metadata": {},
   "outputs": [],
   "source": [
    "sql_inserer_station = \"\"\"\n",
    "    INSERT INTO stations\n",
    "    (id_station, name, latitude, longitude)\n",
    "    VALUES (?, ?, ?, ?)\n",
    "\"\"\""
   ]
  },
  {
   "cell_type": "code",
   "execution_count": 10,
   "id": "racial-fashion",
   "metadata": {},
   "outputs": [
    {
     "name": "stdout",
     "output_type": "stream",
     "text": [
      "Erreur lors de l'insertion des données\n",
      "UNIQUE constraint failed: stations.id_station\n"
     ]
    }
   ],
   "source": [
    "inserer_donnees(conn, sql_inserer_station, data_stations)"
   ]
  },
  {
   "cell_type": "code",
   "execution_count": 20,
   "id": "polish-clone",
   "metadata": {},
   "outputs": [],
   "source": [
    "sql_inserer_mesure = \"\"\"\n",
    "    INSERT INTO mesures\n",
    "    (date, id_station, pressure, wind_heading, wind_speed_avg, wind_speed_max, wind_speed_min, status_state)\n",
    "    VALUES (?, ?, ?, ?, ?, ?, ?, ?)\n",
    "\"\"\""
   ]
  },
  {
   "cell_type": "code",
   "execution_count": 21,
   "id": "unavailable-machinery",
   "metadata": {},
   "outputs": [
    {
     "name": "stdout",
     "output_type": "stream",
     "text": [
      "Les données ont été insérées avec succès\n"
     ]
    }
   ],
   "source": [
    "inserer_donnees(conn, sql_inserer_mesure, data_mesures)"
   ]
  },
  {
   "cell_type": "code",
   "execution_count": null,
   "id": "convertible-consumption",
   "metadata": {},
   "outputs": [
    {
     "name": "stdout",
     "output_type": "stream",
     "text": [
      "Les données ont été insérées avec succès\n",
      "Les données ont été insérées avec succès\n",
      "Les données ont été insérées avec succès\n",
      "Les données ont été insérées avec succès\n",
      "Les données ont été insérées avec succès\n",
      "Les données ont été insérées avec succès\n"
     ]
    }
   ],
   "source": [
    "while True:\n",
    "    inserer_donnees(conn, sql_inserer_mesure, data_mesures)\n",
    "    time.sleep(60)"
   ]
  },
  {
   "cell_type": "code",
   "execution_count": 12,
   "id": "alien-sender",
   "metadata": {},
   "outputs": [
    {
     "data": {
      "text/html": [
       "<div>\n",
       "<style scoped>\n",
       "    .dataframe tbody tr th:only-of-type {\n",
       "        vertical-align: middle;\n",
       "    }\n",
       "\n",
       "    .dataframe tbody tr th {\n",
       "        vertical-align: top;\n",
       "    }\n",
       "\n",
       "    .dataframe thead th {\n",
       "        text-align: right;\n",
       "    }\n",
       "</style>\n",
       "<table border=\"1\" class=\"dataframe\">\n",
       "  <thead>\n",
       "    <tr style=\"text-align: right;\">\n",
       "      <th></th>\n",
       "      <th>id_station</th>\n",
       "      <th>name</th>\n",
       "      <th>latitude</th>\n",
       "      <th>longitude</th>\n",
       "    </tr>\n",
       "  </thead>\n",
       "  <tbody>\n",
       "    <tr>\n",
       "      <th>0</th>\n",
       "      <td>113</td>\n",
       "      <td>Brétignolles sur mer - La Normandelière</td>\n",
       "      <td>46.613694</td>\n",
       "      <td>-1.861316</td>\n",
       "    </tr>\n",
       "    <tr>\n",
       "      <th>1</th>\n",
       "      <td>307</td>\n",
       "      <td>Pioupiou 307</td>\n",
       "      <td>46.450667</td>\n",
       "      <td>-1.581897</td>\n",
       "    </tr>\n",
       "    <tr>\n",
       "      <th>2</th>\n",
       "      <td>308</td>\n",
       "      <td>Pioupiou 308</td>\n",
       "      <td>46.692344</td>\n",
       "      <td>-1.764994</td>\n",
       "    </tr>\n",
       "  </tbody>\n",
       "</table>\n",
       "</div>"
      ],
      "text/plain": [
       "   id_station                                     name   latitude  longitude\n",
       "0         113  Brétignolles sur mer - La Normandelière  46.613694  -1.861316\n",
       "1         307                             Pioupiou 307  46.450667  -1.581897\n",
       "2         308                             Pioupiou 308  46.692344  -1.764994"
      ]
     },
     "execution_count": 12,
     "metadata": {},
     "output_type": "execute_result"
    }
   ],
   "source": [
    "sql = '''\n",
    "SELECT *\n",
    "FROM stations'''\n",
    "\n",
    "sql = pd.read_sql_query(sql, conn)\n",
    "sql"
   ]
  },
  {
   "cell_type": "code",
   "execution_count": null,
   "id": "neither-pastor",
   "metadata": {},
   "outputs": [],
   "source": [
    "sql = '''\n",
    "SELECT *\n",
    "FROM mesures'''\n",
    "\n",
    "sql = pd.read_sql_query(sql, conn)\n",
    "sql"
   ]
  },
  {
   "cell_type": "code",
   "execution_count": null,
   "id": "attached-directory",
   "metadata": {},
   "outputs": [],
   "source": []
  }
 ],
 "metadata": {
  "kernelspec": {
   "display_name": "Python 3",
   "language": "python",
   "name": "python3"
  },
  "language_info": {
   "codemirror_mode": {
    "name": "ipython",
    "version": 3
   },
   "file_extension": ".py",
   "mimetype": "text/x-python",
   "name": "python",
   "nbconvert_exporter": "python",
   "pygments_lexer": "ipython3",
   "version": "3.8.6"
  }
 },
 "nbformat": 4,
 "nbformat_minor": 5
}
