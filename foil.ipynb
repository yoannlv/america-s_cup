{
 "cells": [
  {
   "cell_type": "code",
   "execution_count": 73,
   "id": "progressive-nebraska",
   "metadata": {},
   "outputs": [],
   "source": [
    "import sqlite3\n",
    "import pandas as pd\n",
    "import json\n",
    "import requests\n",
    "import os"
   ]
  },
  {
   "cell_type": "markdown",
   "id": "enabling-dylan",
   "metadata": {},
   "source": [
    "## Création BDD et tables"
   ]
  },
  {
   "cell_type": "code",
   "execution_count": 74,
   "id": "future-northern",
   "metadata": {},
   "outputs": [
    {
     "name": "stdout",
     "output_type": "stream",
     "text": [
      "La base de données a été créée\n"
     ]
    }
   ],
   "source": [
    "try:\n",
    "    db = sqlite3.connect(\"foil.db\")\n",
    "    \n",
    "    cursor = db.cursor()\n",
    "    \n",
    "    cursor.execute('''create table stations (       \n",
    "    \n",
    "    id_station integer primary key,\n",
    "    name varchar,\n",
    "    latitude float,\n",
    "    longitude float)''')\n",
    "    \n",
    "    cursor.execute('''create table mesures (       \n",
    "    \n",
    "    id_mesure integer primary key autoincrement unique,\n",
    "    date varchar,\n",
    "    id_station integer,\n",
    "    pressure float,\n",
    "    wind_heading float,\n",
    "    wind_speed_avg float,\n",
    "    wind_speed_max float,\n",
    "    wind_speed_min float,\n",
    "    status_state varchar,\n",
    "    foreign key (id_station) references stations(id_station))''')\n",
    "                                                     \n",
    "    db.commit()\n",
    "    \n",
    "    cursor.close()\n",
    "    db.close()\n",
    "except:\n",
    "    print(\"Une erreur est survenue lors de la creation de la base\")\n",
    "    exit(1)\n",
    "    \n",
    "print(\"La base de données a été créée\")  "
   ]
  },
  {
   "cell_type": "markdown",
   "id": "beneficial-albuquerque",
   "metadata": {},
   "source": [
    "## Création liste Stations"
   ]
  },
  {
   "cell_type": "code",
   "execution_count": 75,
   "id": "swedish-narrative",
   "metadata": {},
   "outputs": [
    {
     "data": {
      "text/plain": [
       "[[113, 'Brétignolles sur mer - La Normandelière', 46.613775, -1.861274]]"
      ]
     },
     "execution_count": 75,
     "metadata": {},
     "output_type": "execute_result"
    }
   ],
   "source": [
    "data_station_113=[]\n",
    "response = requests.get('http://api.pioupiou.fr/v1/live/113')\n",
    "station_113 = json.loads(response.text)\n",
    "data_station_113.append([station_113['data']['id'],\n",
    "                        station_113['data']['meta']['name'],\n",
    "                        station_113['data']['location']['latitude'],\n",
    "                        station_113['data']['location']['longitude']])\n",
    "data_station_113"
   ]
  },
  {
   "cell_type": "code",
   "execution_count": 76,
   "id": "recovered-invasion",
   "metadata": {},
   "outputs": [
    {
     "data": {
      "text/plain": [
       "[[307, 'Pioupiou 307', 46.450667, -1.581897]]"
      ]
     },
     "execution_count": 76,
     "metadata": {},
     "output_type": "execute_result"
    }
   ],
   "source": [
    "data_station_307=[]\n",
    "response = requests.get('http://api.pioupiou.fr/v1/live/307')\n",
    "station_307 = json.loads(response.text)\n",
    "data_station_307.append([station_307['data']['id'],\n",
    "                        station_307['data']['meta']['name'],\n",
    "                        station_307['data']['location']['latitude'],\n",
    "                        station_307['data']['location']['longitude']])\n",
    "data_station_307"
   ]
  },
  {
   "cell_type": "code",
   "execution_count": 77,
   "id": "geographic-conviction",
   "metadata": {},
   "outputs": [
    {
     "data": {
      "text/plain": [
       "[[308, 'Pioupiou 308', 46.692344, -1.764994]]"
      ]
     },
     "execution_count": 77,
     "metadata": {},
     "output_type": "execute_result"
    }
   ],
   "source": [
    "data_station_308=[]\n",
    "response = requests.get('http://api.pioupiou.fr/v1/live/308')\n",
    "station_308 = json.loads(response.text)\n",
    "data_station_308.append([station_308['data']['id'],\n",
    "                        station_308['data']['meta']['name'],\n",
    "                        station_308['data']['location']['latitude'],\n",
    "                        station_308['data']['location']['longitude']])\n",
    "data_station_308"
   ]
  },
  {
   "cell_type": "markdown",
   "id": "collect-knitting",
   "metadata": {},
   "source": [
    "## Création liste Mesures"
   ]
  },
  {
   "cell_type": "code",
   "execution_count": 78,
   "id": "abandoned-excerpt",
   "metadata": {},
   "outputs": [
    {
     "data": {
      "text/plain": [
       "[['2021-03-11T10:57:15.000Z', 113, None, 225, 31, None, None, 'on']]"
      ]
     },
     "execution_count": 78,
     "metadata": {},
     "output_type": "execute_result"
    }
   ],
   "source": [
    "data_mesure_113=[]\n",
    "response = requests.get('http://api.pioupiou.fr/v1/live/113')\n",
    "mesure_113 = json.loads(response.text)\n",
    "data_mesure_113.append([mesure_113['data']['measurements']['date'],\n",
    "                        mesure_113['data']['id'],\n",
    "                        mesure_113['data']['measurements']['pressure'],\n",
    "                        mesure_113['data']['measurements']['wind_heading'],\n",
    "                        mesure_113['data']['measurements']['wind_speed_avg'],\n",
    "                        mesure_113['data']['measurements']['wind_speed_max'],\n",
    "                        mesure_113['data']['measurements']['wind_speed_min'],\n",
    "                        mesure_113['data']['status']['state']])\n",
    "data_mesure_113"
   ]
  },
  {
   "cell_type": "code",
   "execution_count": 79,
   "id": "imported-opening",
   "metadata": {},
   "outputs": [
    {
     "data": {
      "text/plain": [
       "[['2021-03-11T10:56:51.000Z', 307, None, 247.5, 25.5, 35.5, 14, 'on']]"
      ]
     },
     "execution_count": 79,
     "metadata": {},
     "output_type": "execute_result"
    }
   ],
   "source": [
    "data_mesure_307=[]\n",
    "response = requests.get('http://api.pioupiou.fr/v1/live/307')\n",
    "mesure_307 = json.loads(response.text)\n",
    "data_mesure_307.append([mesure_307['data']['measurements']['date'],\n",
    "                        mesure_307['data']['id'],\n",
    "                        mesure_307['data']['measurements']['pressure'],\n",
    "                        mesure_307['data']['measurements']['wind_heading'],\n",
    "                        mesure_307['data']['measurements']['wind_speed_avg'],\n",
    "                        mesure_307['data']['measurements']['wind_speed_max'],\n",
    "                        mesure_307['data']['measurements']['wind_speed_min'],\n",
    "                        mesure_307['data']['status']['state']])\n",
    "data_mesure_307"
   ]
  },
  {
   "cell_type": "code",
   "execution_count": 80,
   "id": "fuzzy-chuck",
   "metadata": {},
   "outputs": [
    {
     "data": {
      "text/plain": [
       "[['2021-03-11T10:50:46.000Z', 308, None, 90, 0, 0, 0, 'on']]"
      ]
     },
     "execution_count": 80,
     "metadata": {},
     "output_type": "execute_result"
    }
   ],
   "source": [
    "data_mesure_308=[]\n",
    "response = requests.get('http://api.pioupiou.fr/v1/live/308')\n",
    "mesure_308 = json.loads(response.text)\n",
    "data_mesure_308.append([mesure_308['data']['measurements']['date'],\n",
    "                        mesure_308['data']['id'],\n",
    "                        mesure_308['data']['measurements']['pressure'],\n",
    "                        mesure_308['data']['measurements']['wind_heading'],\n",
    "                        mesure_308['data']['measurements']['wind_speed_avg'],\n",
    "                        mesure_308['data']['measurements']['wind_speed_max'],\n",
    "                        mesure_308['data']['measurements']['wind_speed_min'],\n",
    "                        mesure_308['data']['status']['state']])\n",
    "data_mesure_308"
   ]
  },
  {
   "cell_type": "markdown",
   "id": "chief-mercury",
   "metadata": {},
   "source": [
    "## Connexion BDD"
   ]
  },
  {
   "cell_type": "code",
   "execution_count": 81,
   "id": "regular-month",
   "metadata": {},
   "outputs": [],
   "source": [
    "conn = sqlite3.connect('foil.db')"
   ]
  },
  {
   "cell_type": "markdown",
   "id": "solar-recall",
   "metadata": {},
   "source": [
    "## Insertion données"
   ]
  },
  {
   "cell_type": "code",
   "execution_count": 82,
   "id": "owned-contrary",
   "metadata": {},
   "outputs": [],
   "source": [
    "def inserer_donnees(conn, sql_insertion_table, donnees):\n",
    "    try:\n",
    "        cursor = conn.cursor()\n",
    "        for d in donnees:\n",
    "            cursor.execute(sql_insertion_table, d)\n",
    "        conn.commit()\n",
    "    except sqlite3.Error as e:\n",
    "        print(\"Erreur lors de l'insertion des données\")\n",
    "        print(e)\n",
    "        return\n",
    "    cursor.close()\n",
    "    print(\"Les données ont été insérées avec succès\")"
   ]
  },
  {
   "cell_type": "code",
   "execution_count": 84,
   "id": "hidden-attitude",
   "metadata": {},
   "outputs": [],
   "source": [
    "sql_inserer_station = \"\"\"\n",
    "    INSERT INTO stations\n",
    "    (id_station, name, latitude, longitude)\n",
    "    VALUES (?, ?, ?, ?)\n",
    "\"\"\""
   ]
  },
  {
   "cell_type": "code",
   "execution_count": 85,
   "id": "shaped-deposit",
   "metadata": {},
   "outputs": [
    {
     "name": "stdout",
     "output_type": "stream",
     "text": [
      "Les données ont été insérées avec succès\n"
     ]
    }
   ],
   "source": [
    "inserer_donnees(conn, sql_inserer_station, data_station_113)"
   ]
  },
  {
   "cell_type": "code",
   "execution_count": 86,
   "id": "direct-wilson",
   "metadata": {},
   "outputs": [
    {
     "name": "stdout",
     "output_type": "stream",
     "text": [
      "Les données ont été insérées avec succès\n"
     ]
    }
   ],
   "source": [
    "inserer_donnees(conn, sql_inserer_station, data_station_308)"
   ]
  },
  {
   "cell_type": "code",
   "execution_count": 87,
   "id": "departmental-family",
   "metadata": {},
   "outputs": [
    {
     "name": "stdout",
     "output_type": "stream",
     "text": [
      "Les données ont été insérées avec succès\n"
     ]
    }
   ],
   "source": [
    "inserer_donnees(conn, sql_inserer_station, data_station_307)"
   ]
  },
  {
   "cell_type": "code",
   "execution_count": 89,
   "id": "waiting-battlefield",
   "metadata": {},
   "outputs": [],
   "source": [
    "sql_inserer_mesure = \"\"\"\n",
    "    INSERT INTO mesures\n",
    "    (date, id_station, pressure, wind_heading, wind_speed_avg, wind_speed_max, wind_speed_min, status_state)\n",
    "    VALUES (?, ?, ?, ?, ?, ?, ?, ?)\n",
    "\"\"\""
   ]
  },
  {
   "cell_type": "code",
   "execution_count": 90,
   "id": "preceding-trademark",
   "metadata": {},
   "outputs": [
    {
     "name": "stdout",
     "output_type": "stream",
     "text": [
      "Les données ont été insérées avec succès\n"
     ]
    }
   ],
   "source": [
    "inserer_donnees(conn, sql_inserer_mesure, data_mesure_113)"
   ]
  },
  {
   "cell_type": "code",
   "execution_count": 91,
   "id": "arbitrary-desktop",
   "metadata": {},
   "outputs": [
    {
     "name": "stdout",
     "output_type": "stream",
     "text": [
      "Les données ont été insérées avec succès\n"
     ]
    }
   ],
   "source": [
    "inserer_donnees(conn, sql_inserer_mesure, data_mesure_307)"
   ]
  },
  {
   "cell_type": "code",
   "execution_count": 92,
   "id": "fatal-turkey",
   "metadata": {},
   "outputs": [
    {
     "name": "stdout",
     "output_type": "stream",
     "text": [
      "Les données ont été insérées avec succès\n"
     ]
    }
   ],
   "source": [
    "inserer_donnees(conn, sql_inserer_mesure, data_mesure_308)"
   ]
  },
  {
   "cell_type": "code",
   "execution_count": 88,
   "id": "necessary-breast",
   "metadata": {},
   "outputs": [
    {
     "data": {
      "text/html": [
       "<div>\n",
       "<style scoped>\n",
       "    .dataframe tbody tr th:only-of-type {\n",
       "        vertical-align: middle;\n",
       "    }\n",
       "\n",
       "    .dataframe tbody tr th {\n",
       "        vertical-align: top;\n",
       "    }\n",
       "\n",
       "    .dataframe thead th {\n",
       "        text-align: right;\n",
       "    }\n",
       "</style>\n",
       "<table border=\"1\" class=\"dataframe\">\n",
       "  <thead>\n",
       "    <tr style=\"text-align: right;\">\n",
       "      <th></th>\n",
       "      <th>id_station</th>\n",
       "      <th>name</th>\n",
       "      <th>latitude</th>\n",
       "      <th>longitude</th>\n",
       "    </tr>\n",
       "  </thead>\n",
       "  <tbody>\n",
       "    <tr>\n",
       "      <th>0</th>\n",
       "      <td>113</td>\n",
       "      <td>Brétignolles sur mer - La Normandelière</td>\n",
       "      <td>46.613775</td>\n",
       "      <td>-1.861274</td>\n",
       "    </tr>\n",
       "    <tr>\n",
       "      <th>1</th>\n",
       "      <td>307</td>\n",
       "      <td>Pioupiou 307</td>\n",
       "      <td>46.450667</td>\n",
       "      <td>-1.581897</td>\n",
       "    </tr>\n",
       "    <tr>\n",
       "      <th>2</th>\n",
       "      <td>308</td>\n",
       "      <td>Pioupiou 308</td>\n",
       "      <td>46.692344</td>\n",
       "      <td>-1.764994</td>\n",
       "    </tr>\n",
       "  </tbody>\n",
       "</table>\n",
       "</div>"
      ],
      "text/plain": [
       "   id_station                                     name   latitude  longitude\n",
       "0         113  Brétignolles sur mer - La Normandelière  46.613775  -1.861274\n",
       "1         307                             Pioupiou 307  46.450667  -1.581897\n",
       "2         308                             Pioupiou 308  46.692344  -1.764994"
      ]
     },
     "execution_count": 88,
     "metadata": {},
     "output_type": "execute_result"
    }
   ],
   "source": [
    "sql = '''\n",
    "SELECT *\n",
    "FROM stations'''\n",
    "\n",
    "sql = pd.read_sql_query(sql, conn)\n",
    "sql"
   ]
  },
  {
   "cell_type": "code",
   "execution_count": 93,
   "id": "previous-anxiety",
   "metadata": {},
   "outputs": [
    {
     "data": {
      "text/html": [
       "<div>\n",
       "<style scoped>\n",
       "    .dataframe tbody tr th:only-of-type {\n",
       "        vertical-align: middle;\n",
       "    }\n",
       "\n",
       "    .dataframe tbody tr th {\n",
       "        vertical-align: top;\n",
       "    }\n",
       "\n",
       "    .dataframe thead th {\n",
       "        text-align: right;\n",
       "    }\n",
       "</style>\n",
       "<table border=\"1\" class=\"dataframe\">\n",
       "  <thead>\n",
       "    <tr style=\"text-align: right;\">\n",
       "      <th></th>\n",
       "      <th>id_mesure</th>\n",
       "      <th>date</th>\n",
       "      <th>id_station</th>\n",
       "      <th>pressure</th>\n",
       "      <th>wind_heading</th>\n",
       "      <th>wind_speed_avg</th>\n",
       "      <th>wind_speed_max</th>\n",
       "      <th>wind_speed_min</th>\n",
       "      <th>status_state</th>\n",
       "    </tr>\n",
       "  </thead>\n",
       "  <tbody>\n",
       "    <tr>\n",
       "      <th>0</th>\n",
       "      <td>1</td>\n",
       "      <td>2021-03-11T10:57:15.000Z</td>\n",
       "      <td>113</td>\n",
       "      <td>None</td>\n",
       "      <td>225.0</td>\n",
       "      <td>31.0</td>\n",
       "      <td>NaN</td>\n",
       "      <td>NaN</td>\n",
       "      <td>on</td>\n",
       "    </tr>\n",
       "    <tr>\n",
       "      <th>1</th>\n",
       "      <td>2</td>\n",
       "      <td>2021-03-11T10:56:51.000Z</td>\n",
       "      <td>307</td>\n",
       "      <td>None</td>\n",
       "      <td>247.5</td>\n",
       "      <td>25.5</td>\n",
       "      <td>35.5</td>\n",
       "      <td>14.0</td>\n",
       "      <td>on</td>\n",
       "    </tr>\n",
       "    <tr>\n",
       "      <th>2</th>\n",
       "      <td>3</td>\n",
       "      <td>2021-03-11T10:50:46.000Z</td>\n",
       "      <td>308</td>\n",
       "      <td>None</td>\n",
       "      <td>90.0</td>\n",
       "      <td>0.0</td>\n",
       "      <td>0.0</td>\n",
       "      <td>0.0</td>\n",
       "      <td>on</td>\n",
       "    </tr>\n",
       "  </tbody>\n",
       "</table>\n",
       "</div>"
      ],
      "text/plain": [
       "   id_mesure                      date  id_station pressure  wind_heading  \\\n",
       "0          1  2021-03-11T10:57:15.000Z         113     None         225.0   \n",
       "1          2  2021-03-11T10:56:51.000Z         307     None         247.5   \n",
       "2          3  2021-03-11T10:50:46.000Z         308     None          90.0   \n",
       "\n",
       "   wind_speed_avg  wind_speed_max  wind_speed_min status_state  \n",
       "0            31.0             NaN             NaN           on  \n",
       "1            25.5            35.5            14.0           on  \n",
       "2             0.0             0.0             0.0           on  "
      ]
     },
     "execution_count": 93,
     "metadata": {},
     "output_type": "execute_result"
    }
   ],
   "source": [
    "sql = '''\n",
    "SELECT *\n",
    "FROM mesures'''\n",
    "\n",
    "sql = pd.read_sql_query(sql, conn)\n",
    "sql"
   ]
  },
  {
   "cell_type": "code",
   "execution_count": 113,
   "id": "automated-religion",
   "metadata": {},
   "outputs": [],
   "source": [
    "liste_stations = [113, 307, 308]"
   ]
  },
  {
   "cell_type": "code",
   "execution_count": 114,
   "id": "modular-teaching",
   "metadata": {},
   "outputs": [],
   "source": [
    "data_stations=[]\n",
    "for i in liste_stations:\n",
    "    q=str(i)\n",
    "    response = requests.get('http://api.pioupiou.fr/v1/live/'+q)\n",
    "    response_info = json.loads(response.text)\n",
    "    data_stations.append([response_info['data']['id'], response_info['data']['meta']['name'], response_info['data']['location']['latitude'], response_info['data']['location']['longitude']])"
   ]
  },
  {
   "cell_type": "code",
   "execution_count": 115,
   "id": "returning-forestry",
   "metadata": {},
   "outputs": [
    {
     "data": {
      "text/plain": [
       "[[113, 'Brétignolles sur mer - La Normandelière', 46.613775, -1.861274],\n",
       " [307, 'Pioupiou 307', 46.450667, -1.581897],\n",
       " [308, 'Pioupiou 308', 46.692344, -1.764994]]"
      ]
     },
     "execution_count": 115,
     "metadata": {},
     "output_type": "execute_result"
    }
   ],
   "source": [
    "data_stations"
   ]
  },
  {
   "cell_type": "code",
   "execution_count": 116,
   "id": "reserved-transcription",
   "metadata": {},
   "outputs": [],
   "source": [
    "data_mesures=[]\n",
    "for i in liste_stations:\n",
    "    q=str(i)\n",
    "    response = requests.get('http://api.pioupiou.fr/v1/live/'+q)\n",
    "    response_info = json.loads(response.text)\n",
    "    data_mesures.append([response_info['data']['measurements']['date'], response_info['data']['id'], response_info['data']['measurements']['pressure'], response_info['data']['measurements']['wind_heading'], response_info['data']['measurements']['wind_speed_avg'], response_info['data']['measurements']['wind_speed_max'], response_info['data']['measurements']['wind_speed_min'], response_info['data']['status']['state']])"
   ]
  },
  {
   "cell_type": "code",
   "execution_count": 117,
   "id": "bulgarian-charles",
   "metadata": {},
   "outputs": [
    {
     "data": {
      "text/plain": [
       "[['2021-03-11T11:25:47.000Z', 113, None, 225, 31, None, None, 'on'],\n",
       " ['2021-03-11T11:20:59.000Z', 307, None, 247.5, 20.5, 31.5, 11, 'on'],\n",
       " ['2021-03-11T11:14:54.000Z', 308, None, 90, 0, 0, 0, 'on']]"
      ]
     },
     "execution_count": 117,
     "metadata": {},
     "output_type": "execute_result"
    }
   ],
   "source": [
    "data_mesures"
   ]
  },
  {
   "cell_type": "code",
   "execution_count": null,
   "id": "raising-billion",
   "metadata": {},
   "outputs": [],
   "source": []
  }
 ],
 "metadata": {
  "kernelspec": {
   "display_name": "Python 3",
   "language": "python",
   "name": "python3"
  },
  "language_info": {
   "codemirror_mode": {
    "name": "ipython",
    "version": 3
   },
   "file_extension": ".py",
   "mimetype": "text/x-python",
   "name": "python",
   "nbconvert_exporter": "python",
   "pygments_lexer": "ipython3",
   "version": "3.8.6"
  }
 },
 "nbformat": 4,
 "nbformat_minor": 5
}
